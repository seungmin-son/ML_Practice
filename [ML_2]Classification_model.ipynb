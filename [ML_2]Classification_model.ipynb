{
  "nbformat": 4,
  "nbformat_minor": 0,
  "metadata": {
    "colab": {
      "provenance": [],
      "authorship_tag": "ABX9TyNK8tlqEkgAqMZU7+IJ+15j",
      "include_colab_link": true
    },
    "kernelspec": {
      "name": "python3",
      "display_name": "Python 3"
    },
    "language_info": {
      "name": "python"
    }
  },
  "cells": [
    {
      "cell_type": "markdown",
      "metadata": {
        "id": "view-in-github",
        "colab_type": "text"
      },
      "source": [
        "<a href=\"https://colab.research.google.com/github/seungmin-son/ML_Practice/blob/main/%5BML_2%5DClassification_model.ipynb\" target=\"_parent\"><img src=\"https://colab.research.google.com/assets/colab-badge.svg\" alt=\"Open In Colab\"/></a>"
      ]
    },
    {
      "cell_type": "markdown",
      "source": [
        "# 데이터셋 불러오기"
      ],
      "metadata": {
        "id": "xG_v_OpUcHw6"
      }
    },
    {
      "cell_type": "code",
      "execution_count": null,
      "metadata": {
        "colab": {
          "base_uri": "https://localhost:8080/"
        },
        "id": "3EsaqCAkZDjq",
        "outputId": "9ce80d65-f8d2-4375-efad-08263ee7443b"
      },
      "outputs": [
        {
          "output_type": "stream",
          "name": "stdout",
          "text": [
            "[0 1 2]\n"
          ]
        }
      ],
      "source": [
        "from sklearn import datasets \n",
        "import numpy as np\n",
        "\n",
        "iris = datasets.load_iris()\n",
        "X= iris.data[:,[2,3]]\n",
        "y = iris.target\n",
        "print(np.unique(y)) #y에 저장된 3 개의 고유한 class label을 반환, 꽃 3종류를 가져옴"
      ]
    },
    {
      "cell_type": "markdown",
      "source": [
        "# 데이터 셋을 train 용과 test용으로 분할"
      ],
      "metadata": {
        "id": "FGxBfxojdRjS"
      }
    },
    {
      "cell_type": "code",
      "source": [
        "from sklearn.model_selection import train_test_split\n",
        "X_train,X_test,y_train,y_test = train_test_split(X,y,test_size= 0.3, random_state = 1, stratify = y) #stratify 는 계층화 기능, data set들의  label비율을 동일하게 해줌"
      ],
      "metadata": {
        "id": "f6i4nAHtccN5"
      },
      "execution_count": null,
      "outputs": []
    },
    {
      "cell_type": "code",
      "source": [
        "print(np.bincount(y)) #label을 확인\n",
        "print(np.bincount(y_train))\n",
        "print(np.bincount(y_test))"
      ],
      "metadata": {
        "colab": {
          "base_uri": "https://localhost:8080/"
        },
        "id": "0wKJJ2jqds0n",
        "outputId": "6fcd7701-fcfb-440e-aad1-ee8132c35380"
      },
      "execution_count": null,
      "outputs": [
        {
          "output_type": "stream",
          "name": "stdout",
          "text": [
            "[50 50 50]\n",
            "[35 35 35]\n",
            "[15 15 15]\n"
          ]
        }
      ]
    },
    {
      "cell_type": "markdown",
      "source": [
        "# feature 표준화 해주기"
      ],
      "metadata": {
        "id": "qQRiRWgofnL-"
      }
    },
    {
      "cell_type": "code",
      "source": [
        "from sklearn.preprocessing import StandardScaler\n",
        "\n",
        "sc = StandardScaler() #sklearn 클래스\n",
        "sc.fit(X_train) #샘플 평균과 표준편차 계산 메서드\n",
        "X_train_std = sc.transform(X_train) #계산된 샘플평균과 표준편차를 사용하여 표준화를 시키는 메서드\n",
        "X_test_std = sc.transform(X_test)"
      ],
      "metadata": {
        "id": "7W2gFKqseRyL"
      },
      "execution_count": null,
      "outputs": []
    },
    {
      "cell_type": "markdown",
      "source": [
        "# Perceptron에 학습\n",
        "\n"
      ],
      "metadata": {
        "id": "j75LF7oVgkd0"
      }
    },
    {
      "cell_type": "code",
      "source": [
        "from sklearn.linear_model import Perceptron\n",
        "\n",
        "ppn = Perceptron(eta0 = 0.01,random_state = 1)\n",
        "ppn.fit(X_train_std,y_train)"
      ],
      "metadata": {
        "colab": {
          "base_uri": "https://localhost:8080/"
        },
        "id": "GvyDejR9f09_",
        "outputId": "bfad3af0-9d3c-422b-eb73-a5d08af0a335"
      },
      "execution_count": null,
      "outputs": [
        {
          "output_type": "execute_result",
          "data": {
            "text/plain": [
              "Perceptron(eta0=0.01, random_state=1)"
            ]
          },
          "metadata": {},
          "execution_count": 9
        }
      ]
    },
    {
      "cell_type": "code",
      "source": [
        "y_pre = ppn.predict(X_test_std)\n",
        "print((y_test != y_pre).sum())"
      ],
      "metadata": {
        "colab": {
          "base_uri": "https://localhost:8080/"
        },
        "id": "mCraIGJThveH",
        "outputId": "086d7ef6-4647-4e37-c55d-f96935efff81"
      },
      "execution_count": null,
      "outputs": [
        {
          "output_type": "stream",
          "name": "stdout",
          "text": [
            "2\n"
          ]
        }
      ]
    },
    {
      "cell_type": "code",
      "source": [
        "from sklearn.metrics import accuracy_score #정확도 확인\n",
        "print('%.3f.' % accuracy_score(y_test,y_pre))\n"
      ],
      "metadata": {
        "colab": {
          "base_uri": "https://localhost:8080/"
        },
        "id": "stNyt3bfjFqO",
        "outputId": "64b14b8b-7d31-4ce7-8022-4b0ac12ec754"
      },
      "execution_count": null,
      "outputs": [
        {
          "output_type": "stream",
          "name": "stdout",
          "text": [
            "0.956.\n"
          ]
        }
      ]
    },
    {
      "cell_type": "code",
      "source": [
        "print(ppn.score(X_test_std,y_test))"
      ],
      "metadata": {
        "colab": {
          "base_uri": "https://localhost:8080/"
        },
        "id": "8Mrxrd7mjmdF",
        "outputId": "f617d40e-3a89-4a41-cf18-4fef7846bca6"
      },
      "execution_count": null,
      "outputs": [
        {
          "output_type": "stream",
          "name": "stdout",
          "text": [
            "0.9555555555555556\n"
          ]
        }
      ]
    },
    {
      "cell_type": "code",
      "source": [
        "from matplotlib.colors import ListedColormap\n",
        "import matplotlib.pyplot as plt\n",
        "\n",
        "def plot_decision_regions(X, y, classifier, test_idx=None, resolution=0.02):\n",
        "\n",
        "  markers = ('s', 'x', 'o', '^', 'v')\n",
        "  colors = ('red', 'blue', 'lightgreen', 'gray', 'cyan')\n",
        "  cmap = ListedColormap(colors[:len(np.unique(y))])\n",
        "\n",
        "  x1_min, x1_max = X[:, 0].min() - 1, X[:, 0].max() + 1\n",
        "  x2_min, x2_max = X[:, 1].min() - 1, X[:, 1].max() + 1\n",
        "  xx1, xx2 = np.meshgrid(np.arange(x1_min, x1_max, resolution),np.arange(x2_min, x2_max, resolution))\n",
        "  Z = classifier.predict(np.array([xx1.ravel(), xx2.ravel()]).T)\n",
        "  Z = Z.reshape(xx1.shape)\n",
        "  plt.contourf(xx1, xx2, Z, alpha=0.3, cmap=cmap)\n",
        "  plt.xlim(xx1.min(), xx1.max())\n",
        "  plt.ylim(xx2.min(), xx2.max())\n",
        "  for idx, cl in enumerate(np.unique(y)):\n",
        "    plt.scatter(x=X[y == cl, 0], y=X[y == cl, 1],alpha=0.8, c=colors[idx],marker=markers[idx], label=cl, edgecolor='black')\n",
        "  \n",
        "  if test_idx:\n",
        "    # 모든 샘플 그리기\n",
        "    X_test, y_test = X[test_idx, :], y[test_idx]\n",
        "    plt.scatter(X_test[:, 0],X_test[:, 1],facecolor='none',edgecolor='black',alpha=1.0,linewidth=1,marker='o',s=100, label='test set')"
      ],
      "metadata": {
        "id": "JB8NlmgIkY49"
      },
      "execution_count": null,
      "outputs": []
    },
    {
      "cell_type": "code",
      "source": [
        "X_combined_std = np.vstack((X_train_std, X_test_std))\n",
        "y_combined = np.hstack((y_train, y_test))\n",
        "\n",
        "plot_decision_regions(X=X_combined_std, y=y_combined,classifier=ppn, test_idx=range(105, 150))\n",
        "plt.xlabel('petal length [standardized]')\n",
        "plt.ylabel('petal width [standardized]')\n",
        "plt.legend(loc='upper left')\n",
        "\n",
        "plt.tight_layout()\n",
        "plt.show()"
      ],
      "metadata": {
        "colab": {
          "base_uri": "https://localhost:8080/",
          "height": 297
        },
        "id": "Xt-nAf-ZwTQX",
        "outputId": "54366421-d1a4-427a-ab42-6c572fbc4c1c"
      },
      "execution_count": null,
      "outputs": [
        {
          "output_type": "display_data",
          "data": {
            "text/plain": [
              "<Figure size 432x288 with 1 Axes>"
            ],
            "image/png": "[encoded data removed]"
          },
          "metadata": {
            "needs_background": "light"
          }
        }
      ]
    },
    {
      "cell_type": "code",
      "source": [],
      "metadata": {
        "id": "vdURngngwV5u"
      },
      "execution_count": null,
      "outputs": []
    }
  ]
}