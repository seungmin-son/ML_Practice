{
  "nbformat": 4,
  "nbformat_minor": 0,
  "metadata": {
    "colab": {
      "provenance": [],
      "authorship_tag": "ABX9TyMqceG40fpQXBAqoWD3FGRI",
      "include_colab_link": true
    },
    "kernelspec": {
      "name": "python3",
      "display_name": "Python 3"
    },
    "language_info": {
      "name": "python"
    }
  },
  "cells": [
    {
      "cell_type": "markdown",
      "metadata": {
        "id": "view-in-github",
        "colab_type": "text"
      },
      "source": [
        "<a href=\"https://colab.research.google.com/github/seungmin-son/ML_Practice/blob/main/%EA%B8%B0%EA%B3%84%ED%95%99%EC%8A%B5%EB%A1%A0_7%EC%A3%BC%EC%B0%A8%EA%B3%BC%EC%A0%9C.ipynb\" target=\"_parent\"><img src=\"https://colab.research.google.com/assets/colab-badge.svg\" alt=\"Open In Colab\"/></a>"
      ]
    },
    {
      "cell_type": "markdown",
      "source": [
        "# 필요한 라이브러리, 데이터셋 통합"
      ],
      "metadata": {
        "id": "7XRwS4JJgjha"
      }
    },
    {
      "cell_type": "code",
      "execution_count": 50,
      "metadata": {
        "id": "Gxwqp3bifTHO"
      },
      "outputs": [],
      "source": [
        "import numpy as np\n",
        "import pandas as pd\n",
        "import matplotlib.pyplot as plt\n",
        "import seaborn as sns\n",
        "\n",
        "from mlxtend.plotting import scatterplotmatrix"
      ]
    },
    {
      "cell_type": "code",
      "source": [
        "red_wine = pd.read_csv('/content/winequality-red.csv', sep=';');\n",
        "white_wine = pd.read_csv('/content/winequality-white.csv', sep=';'); #5주차에 사용하였던 wine dataset 사용"
      ],
      "metadata": {
        "id": "H0KoM7gEgDey"
      },
      "execution_count": 51,
      "outputs": []
    },
    {
      "cell_type": "code",
      "source": [
        "red_wine['color'] =1\n",
        "white_wine['color'] = 0"
      ],
      "metadata": {
        "id": "WX7S_DaMgDiN"
      },
      "execution_count": 52,
      "outputs": []
    },
    {
      "cell_type": "code",
      "source": [
        "red_wine.shape, white_wine.shape"
      ],
      "metadata": {
        "colab": {
          "base_uri": "https://localhost:8080/"
        },
        "id": "saCw4aTmgDkt",
        "outputId": "ea088b65-a330-4056-ee1e-eea179775006"
      },
      "execution_count": 53,
      "outputs": [
        {
          "output_type": "execute_result",
          "data": {
            "text/plain": [
              "((1599, 13), (4898, 13))"
            ]
          },
          "metadata": {},
          "execution_count": 53
        }
      ]
    },
    {
      "cell_type": "code",
      "source": [
        "wine = pd.concat([red_wine,white_wine])\n",
        "wine.shape"
      ],
      "metadata": {
        "colab": {
          "base_uri": "https://localhost:8080/"
        },
        "id": "hbL3bhQhgDm1",
        "outputId": "b556a7c3-886d-449d-b419-806b29a9eab4"
      },
      "execution_count": 54,
      "outputs": [
        {
          "output_type": "execute_result",
          "data": {
            "text/plain": [
              "(6497, 13)"
            ]
          },
          "metadata": {},
          "execution_count": 54
        }
      ]
    },
    {
      "cell_type": "markdown",
      "source": [
        "# 데이터 전처리"
      ],
      "metadata": {
        "id": "_eMFUFsVgyCv"
      }
    },
    {
      "cell_type": "code",
      "source": [
        "y = wine['color']\n",
        "X = wine.drop(['color'], axis= 1)\n",
        "X.shape"
      ],
      "metadata": {
        "colab": {
          "base_uri": "https://localhost:8080/"
        },
        "id": "YoQx3vzCgheN",
        "outputId": "eb17c4c1-106b-4a89-a105-1c038fb5176d"
      },
      "execution_count": 55,
      "outputs": [
        {
          "output_type": "execute_result",
          "data": {
            "text/plain": [
              "(6497, 12)"
            ]
          },
          "metadata": {},
          "execution_count": 55
        }
      ]
    },
    {
      "cell_type": "markdown",
      "source": [
        "##Scaler 적용"
      ],
      "metadata": {
        "id": "CuVX8nvAhLBU"
      }
    },
    {
      "cell_type": "code",
      "source": [
        "from sklearn.preprocessing import MinMaxScaler, StandardScaler\n",
        "\n",
        "scaler = StandardScaler()\n",
        "scaler.fit(X)\n",
        "\n",
        "X_scaled = scaler.transform(X)\n"
      ],
      "metadata": {
        "id": "x7CxsJqShN6f"
      },
      "execution_count": 56,
      "outputs": []
    },
    {
      "cell_type": "markdown",
      "source": [
        "## 데이터셋 분리"
      ],
      "metadata": {
        "id": "ULyeMOaRgvoP"
      }
    },
    {
      "cell_type": "code",
      "source": [
        "from sklearn.model_selection import train_test_split\n",
        "X_train,X_test,y_train,y_test = train_test_split(X_scaled,y,test_size= 0.2,\n",
        "                                                 random_state = 13)"
      ],
      "metadata": {
        "id": "fh4kQsREghhQ"
      },
      "execution_count": 57,
      "outputs": []
    },
    {
      "cell_type": "code",
      "source": [
        "from sklearn.linear_model import LogisticRegression\n",
        "from sklearn.metrics import accuracy_score\n",
        "log_reg  = LogisticRegression(random_state=13, solver='liblinear', C=10.)\n",
        "log_reg.fit(X_train,y_train)\n",
        "\n",
        "pred = log_reg.predict(X_test)\n",
        "accuracy_score(y_test,pred)"
      ],
      "metadata": {
        "colab": {
          "base_uri": "https://localhost:8080/"
        },
        "id": "DATZWe8_ghjR",
        "outputId": "49bac394-1cb0-40ba-dc23-b123e57008e3"
      },
      "execution_count": 58,
      "outputs": [
        {
          "output_type": "execute_result",
          "data": {
            "text/plain": [
              "0.9969230769230769"
            ]
          },
          "metadata": {},
          "execution_count": 58
        }
      ]
    },
    {
      "cell_type": "code",
      "source": [
        "from sklearn.metrics import accuracy_score, precision_score, recall_score\n",
        "\n",
        "print('accuracy_score:  : ', accuracy_score(y_test,pred))\n",
        "print('precision_score : ', precision_score(y_test, pred))\n",
        "print('recall_score : ', recall_score(y_test, pred))"
      ],
      "metadata": {
        "colab": {
          "base_uri": "https://localhost:8080/"
        },
        "id": "4smuy_cNg4iZ",
        "outputId": "a29cedf8-0612-4fc5-c3b9-76ca58d09620"
      },
      "execution_count": 59,
      "outputs": [
        {
          "output_type": "stream",
          "name": "stdout",
          "text": [
            "accuracy_score:  :  0.9969230769230769\n",
            "precision_score :  0.9905362776025236\n",
            "recall_score :  0.9968253968253968\n"
          ]
        }
      ]
    },
    {
      "cell_type": "markdown",
      "source": [
        "#Binarizer 사용"
      ],
      "metadata": {
        "id": "4jl3f9iNiC4U"
      }
    },
    {
      "cell_type": "code",
      "source": [
        "from sklearn.preprocessing import Binarizer\n",
        "\n",
        "thresholds = [0.05, 0.3, 0.5, 0.8, 0.95]\n",
        "\n",
        "for thr in thresholds:\n",
        "    pred_proba = log_reg.predict_proba(X_test)\n",
        "    pred_proba_1 = pred_proba[:,1].reshape(-1,1)\n",
        "    binarizer = Binarizer(threshold=thr).fit(pred_proba_1)\n",
        "    custom_predict = binarizer.transform(pred_proba_1)\n",
        "\n",
        "    accuracy = accuracy_score(y_test, custom_predict)\n",
        "    precision = precision_score(y_test, custom_predict)\n",
        "    recall = recall_score(y_test, custom_predict)\n",
        "\n",
        "    print('Threshold: ', thr)\n",
        "    print('accuracy_score: ', accuracy)\n",
        "    print('precision_score: ', precision)\n",
        "    print('recall_score: ', recall)\n",
        "    print('\\n')"
      ],
      "metadata": {
        "colab": {
          "base_uri": "https://localhost:8080/"
        },
        "id": "vnJtdPXWhy7l",
        "outputId": "cf9b6e9d-1cff-4050-e6ae-048277a1056a"
      },
      "execution_count": 60,
      "outputs": [
        {
          "output_type": "stream",
          "name": "stdout",
          "text": [
            "Threshold:  0.05\n",
            "accuracy_score:  0.9761538461538461\n",
            "precision_score:  0.9127906976744186\n",
            "recall_score:  0.9968253968253968\n",
            "\n",
            "\n",
            "Threshold:  0.3\n",
            "accuracy_score:  0.9946153846153846\n",
            "precision_score:  0.98125\n",
            "recall_score:  0.9968253968253968\n",
            "\n",
            "\n",
            "Threshold:  0.5\n",
            "accuracy_score:  0.9969230769230769\n",
            "precision_score:  0.9905362776025236\n",
            "recall_score:  0.9968253968253968\n",
            "\n",
            "\n",
            "Threshold:  0.8\n",
            "accuracy_score:  0.9946153846153846\n",
            "precision_score:  0.9967741935483871\n",
            "recall_score:  0.9809523809523809\n",
            "\n",
            "\n",
            "Threshold:  0.95\n",
            "accuracy_score:  0.9815384615384616\n",
            "precision_score:  0.9965870307167235\n",
            "recall_score:  0.926984126984127\n",
            "\n",
            "\n"
          ]
        }
      ]
    },
    {
      "cell_type": "markdown",
      "source": [
        "전반적으로 로지스틱 회귀모델은 높은 accuracy, precision, recall값을 보인다.\n",
        "\n",
        "그리고 Binarizer를 이용하여 비교해본결과\n",
        "1. Threshold 0.05 : 임계값을 낮추면 모델이 Positive로 판단하는 기준이 낮아져 더 많은 샘플을 Positive로 예측하게 된다. 이 경우, 정밀도는 감소하지만 재현율은 증가하는 경향을 보인다.\n",
        "\n",
        "2. Threshold 0.3, 0.5 : 임계값을 높여가며 정확도와 정밀도는 증가하고, 재현율은 거의 변화하지 않았다. 이는 모델이 Positive 클래스를 더욱 신중하게 예측하면서 성능이 개선되었음을 보여준다.\n",
        "\n",
        "3. Threshold 0.8: 임계값을 더 높인 결과, 재현율이 약간 감소하였음, 이는 Positive로 예측하는 기준이 높아져서 FN(False Negative)이 증가했기 때문이다.\n",
        "\n",
        "4. Threshold 0.95: 임계값을 더욱 높인 결과, 재현율이 크게 감소하였다. 이는 높은 임계값으로 인해 많은 Positive 케이스를 Negative로 판단하게 되어 FN이 크게 증가했기 때문이다.\n",
        "\n",
        "결과적으로, 정밀도와 재현율은 반비례하는 경향을 보인다."
      ],
      "metadata": {
        "id": "S5pT8ZoAjyZz"
      }
    }
  ]
}