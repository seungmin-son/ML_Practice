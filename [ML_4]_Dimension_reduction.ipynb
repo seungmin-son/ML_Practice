{
  "nbformat": 4,
  "nbformat_minor": 0,
  "metadata": {
    "colab": {
      "provenance": [],
      "authorship_tag": "ABX9TyPWh7KJ62pcirjs2DSkA5Uy",
      "include_colab_link": true
    },
    "kernelspec": {
      "name": "python3",
      "display_name": "Python 3"
    },
    "language_info": {
      "name": "python"
    }
  },
  "cells": [
    {
      "cell_type": "markdown",
      "metadata": {
        "id": "view-in-github",
        "colab_type": "text"
      },
      "source": [
        "<a href=\"https://colab.research.google.com/github/seungmin-son/ML_Practice/blob/main/%5BML_4%5D_Dimension_reduction.ipynb\" target=\"_parent\"><img src=\"https://colab.research.google.com/assets/colab-badge.svg\" alt=\"Open In Colab\"/></a>"
      ]
    },
    {
      "cell_type": "markdown",
      "source": [
        "# 주성분 분석을 통한 비지도 차원 축소"
      ],
      "metadata": {
        "id": "__Y1aERD3jXp"
      }
    },
    {
      "cell_type": "markdown",
      "source": [
        "## 주성분 분석의 주요 단계"
      ],
      "metadata": {
        "id": "-ktGpyfPTVyQ"
      }
    },
    {
      "cell_type": "code",
      "execution_count": 2,
      "metadata": {
        "colab": {
          "base_uri": "https://localhost:8080/",
          "height": 386
        },
        "id": "IVZM63vq3cQU",
        "outputId": "8f3435d8-f02d-4c14-d569-0c8fd3b2e49d"
      },
      "outputs": [
        {
          "output_type": "execute_result",
          "data": {
            "text/html": [
              "<img src=\"https://git.io/JtsvW\" width=\"400\"/>"
            ],
            "text/plain": [
              "<IPython.core.display.Image object>"
            ]
          },
          "metadata": {},
          "execution_count": 2
        }
      ],
      "source": [
        "from IPython.display import Image\n",
        "Image(url='https://git.io/JtsvW', width=400) "
      ]
    },
    {
      "cell_type": "markdown",
      "source": [
        "## 주성분 추출 단계"
      ],
      "metadata": {
        "id": "nVQ3qpNTTw-R"
      }
    },
    {
      "cell_type": "markdown",
      "source": [
        "1. 데이터를 표준화 전처리\n",
        "2. 공분산 행렬을 구성\n",
        "3. 공분산 행렬의 고윳값과 고유벡터를 구하기\n",
        "4. 고윳값을 내림차순으로 정렬하여 고유 벡터의 순위를 매기기"
      ],
      "metadata": {
        "id": "1Y3OyebKVbmU"
      }
    },
    {
      "cell_type": "code",
      "source": [
        "import pandas as pd\n",
        "\n",
        "df_wine = pd.read_csv('https://archive.ics.uci.edu/ml/''machine-learning-databases/wine/wine.data',header=None)\n",
        "df_wine.columns = ['Class label', 'Alcohol', 'Malic acid', 'Ash','Alcalinity of ash', 'Magnesium', 'Total phenols','Flavanoids', 'Nonflavanoid phenols', 'Proanthocyanins','Color intensity', 'Hue','OD280/OD315 of diluted wines', 'Proline']\n",
        "\n",
        "df_wine.head()"
      ],
      "metadata": {
        "colab": {
          "base_uri": "https://localhost:8080/",
          "height": 206
        },
        "id": "RwmqTH8kTZiG",
        "outputId": "61283d57-522f-4720-bb19-5a1855220de1"
      },
      "execution_count": 3,
      "outputs": [
        {
          "output_type": "execute_result",
          "data": {
            "text/plain": [
              "   Class label  Alcohol  Malic acid   Ash  Alcalinity of ash  Magnesium  \\\n",
              "0            1    14.23        1.71  2.43               15.6        127   \n",
              "1            1    13.20        1.78  2.14               11.2        100   \n",
              "2            1    13.16        2.36  2.67               18.6        101   \n",
              "3            1    14.37        1.95  2.50               16.8        113   \n",
              "4            1    13.24        2.59  2.87               21.0        118   \n",
              "\n",
              "   Total phenols  Flavanoids  Nonflavanoid phenols  Proanthocyanins  \\\n",
              "0           2.80        3.06                  0.28             2.29   \n",
              "1           2.65        2.76                  0.26             1.28   \n",
              "2           2.80        3.24                  0.30             2.81   \n",
              "3           3.85        3.49                  0.24             2.18   \n",
              "4           2.80        2.69                  0.39             1.82   \n",
              "\n",
              "   Color intensity   Hue  OD280/OD315 of diluted wines  Proline  \n",
              "0             5.64  1.04                          3.92     1065  \n",
              "1             4.38  1.05                          3.40     1050  \n",
              "2             5.68  1.03                          3.17     1185  \n",
              "3             7.80  0.86                          3.45     1480  \n",
              "4             4.32  1.04                          2.93      735  "
            ],
            "text/html": [
              "\n",
              "  <div id=\"df-c93ddd76-e5e6-4161-8294-82c378e6d144\">\n",
              "    <div class=\"colab-df-container\">\n",
              "      <div>\n",
              "<style scoped>\n",
              "    .dataframe tbody tr th:only-of-type {\n",
              "        vertical-align: middle;\n",
              "    }\n",
              "\n",
              "    .dataframe tbody tr th {\n",
              "        vertical-align: top;\n",
              "    }\n",
              "\n",
              "    .dataframe thead th {\n",
              "        text-align: right;\n",
              "    }\n",
              "</style>\n",
              "<table border=\"1\" class=\"dataframe\">\n",
              "  <thead>\n",
              "    <tr style=\"text-align: right;\">\n",
              "      <th></th>\n",
              "      <th>Class label</th>\n",
              "      <th>Alcohol</th>\n",
              "      <th>Malic acid</th>\n",
              "      <th>Ash</th>\n",
              "      <th>Alcalinity of ash</th>\n",
              "      <th>Magnesium</th>\n",
              "      <th>Total phenols</th>\n",
              "      <th>Flavanoids</th>\n",
              "      <th>Nonflavanoid phenols</th>\n",
              "      <th>Proanthocyanins</th>\n",
              "      <th>Color intensity</th>\n",
              "      <th>Hue</th>\n",
              "      <th>OD280/OD315 of diluted wines</th>\n",
              "      <th>Proline</th>\n",
              "    </tr>\n",
              "  </thead>\n",
              "  <tbody>\n",
              "    <tr>\n",
              "      <th>0</th>\n",
              "      <td>1</td>\n",
              "      <td>14.23</td>\n",
              "      <td>1.71</td>\n",
              "      <td>2.43</td>\n",
              "      <td>15.6</td>\n",
              "      <td>127</td>\n",
              "      <td>2.80</td>\n",
              "      <td>3.06</td>\n",
              "      <td>0.28</td>\n",
              "      <td>2.29</td>\n",
              "      <td>5.64</td>\n",
              "      <td>1.04</td>\n",
              "      <td>3.92</td>\n",
              "      <td>1065</td>\n",
              "    </tr>\n",
              "    <tr>\n",
              "      <th>1</th>\n",
              "      <td>1</td>\n",
              "      <td>13.20</td>\n",
              "      <td>1.78</td>\n",
              "      <td>2.14</td>\n",
              "      <td>11.2</td>\n",
              "      <td>100</td>\n",
              "      <td>2.65</td>\n",
              "      <td>2.76</td>\n",
              "      <td>0.26</td>\n",
              "      <td>1.28</td>\n",
              "      <td>4.38</td>\n",
              "      <td>1.05</td>\n",
              "      <td>3.40</td>\n",
              "      <td>1050</td>\n",
              "    </tr>\n",
              "    <tr>\n",
              "      <th>2</th>\n",
              "      <td>1</td>\n",
              "      <td>13.16</td>\n",
              "      <td>2.36</td>\n",
              "      <td>2.67</td>\n",
              "      <td>18.6</td>\n",
              "      <td>101</td>\n",
              "      <td>2.80</td>\n",
              "      <td>3.24</td>\n",
              "      <td>0.30</td>\n",
              "      <td>2.81</td>\n",
              "      <td>5.68</td>\n",
              "      <td>1.03</td>\n",
              "      <td>3.17</td>\n",
              "      <td>1185</td>\n",
              "    </tr>\n",
              "    <tr>\n",
              "      <th>3</th>\n",
              "      <td>1</td>\n",
              "      <td>14.37</td>\n",
              "      <td>1.95</td>\n",
              "      <td>2.50</td>\n",
              "      <td>16.8</td>\n",
              "      <td>113</td>\n",
              "      <td>3.85</td>\n",
              "      <td>3.49</td>\n",
              "      <td>0.24</td>\n",
              "      <td>2.18</td>\n",
              "      <td>7.80</td>\n",
              "      <td>0.86</td>\n",
              "      <td>3.45</td>\n",
              "      <td>1480</td>\n",
              "    </tr>\n",
              "    <tr>\n",
              "      <th>4</th>\n",
              "      <td>1</td>\n",
              "      <td>13.24</td>\n",
              "      <td>2.59</td>\n",
              "      <td>2.87</td>\n",
              "      <td>21.0</td>\n",
              "      <td>118</td>\n",
              "      <td>2.80</td>\n",
              "      <td>2.69</td>\n",
              "      <td>0.39</td>\n",
              "      <td>1.82</td>\n",
              "      <td>4.32</td>\n",
              "      <td>1.04</td>\n",
              "      <td>2.93</td>\n",
              "      <td>735</td>\n",
              "    </tr>\n",
              "  </tbody>\n",
              "</table>\n",
              "</div>\n",
              "      <button class=\"colab-df-convert\" onclick=\"convertToInteractive('df-c93ddd76-e5e6-4161-8294-82c378e6d144')\"\n",
              "              title=\"Convert this dataframe to an interactive table.\"\n",
              "              style=\"display:none;\">\n",
              "        \n",
              "  <svg xmlns=\"http://www.w3.org/2000/svg\" height=\"24px\"viewBox=\"0 0 24 24\"\n",
              "       width=\"24px\">\n",
              "    <path d=\"M0 0h24v24H0V0z\" fill=\"none\"/>\n",
              "    <path d=\"M18.56 5.44l.94 2.06.94-2.06 2.06-.94-2.06-.94-.94-2.06-.94 2.06-2.06.94zm-11 1L8.5 8.5l.94-2.06 2.06-.94-2.06-.94L8.5 2.5l-.94 2.06-2.06.94zm10 10l.94 2.06.94-2.06 2.06-.94-2.06-.94-.94-2.06-.94 2.06-2.06.94z\"/><path d=\"M17.41 7.96l-1.37-1.37c-.4-.4-.92-.59-1.43-.59-.52 0-1.04.2-1.43.59L10.3 9.45l-7.72 7.72c-.78.78-.78 2.05 0 2.83L4 21.41c.39.39.9.59 1.41.59.51 0 1.02-.2 1.41-.59l7.78-7.78 2.81-2.81c.8-.78.8-2.07 0-2.86zM5.41 20L4 18.59l7.72-7.72 1.47 1.35L5.41 20z\"/>\n",
              "  </svg>\n",
              "      </button>\n",
              "      \n",
              "  <style>\n",
              "    .colab-df-container {\n",
              "      display:flex;\n",
              "      flex-wrap:wrap;\n",
              "      gap: 12px;\n",
              "    }\n",
              "\n",
              "    .colab-df-convert {\n",
              "      background-color: #E8F0FE;\n",
              "      border: none;\n",
              "      border-radius: 50%;\n",
              "      cursor: pointer;\n",
              "      display: none;\n",
              "      fill: #1967D2;\n",
              "      height: 32px;\n",
              "      padding: 0 0 0 0;\n",
              "      width: 32px;\n",
              "    }\n",
              "\n",
              "    .colab-df-convert:hover {\n",
              "      background-color: #E2EBFA;\n",
              "      box-shadow: 0px 1px 2px rgba(60, 64, 67, 0.3), 0px 1px 3px 1px rgba(60, 64, 67, 0.15);\n",
              "      fill: #174EA6;\n",
              "    }\n",
              "\n",
              "    [theme=dark] .colab-df-convert {\n",
              "      background-color: #3B4455;\n",
              "      fill: #D2E3FC;\n",
              "    }\n",
              "\n",
              "    [theme=dark] .colab-df-convert:hover {\n",
              "      background-color: #434B5C;\n",
              "      box-shadow: 0px 1px 3px 1px rgba(0, 0, 0, 0.15);\n",
              "      filter: drop-shadow(0px 1px 2px rgba(0, 0, 0, 0.3));\n",
              "      fill: #FFFFFF;\n",
              "    }\n",
              "  </style>\n",
              "\n",
              "      <script>\n",
              "        const buttonEl =\n",
              "          document.querySelector('#df-c93ddd76-e5e6-4161-8294-82c378e6d144 button.colab-df-convert');\n",
              "        buttonEl.style.display =\n",
              "          google.colab.kernel.accessAllowed ? 'block' : 'none';\n",
              "\n",
              "        async function convertToInteractive(key) {\n",
              "          const element = document.querySelector('#df-c93ddd76-e5e6-4161-8294-82c378e6d144');\n",
              "          const dataTable =\n",
              "            await google.colab.kernel.invokeFunction('convertToInteractive',\n",
              "                                                     [key], {});\n",
              "          if (!dataTable) return;\n",
              "\n",
              "          const docLinkHtml = 'Like what you see? Visit the ' +\n",
              "            '<a target=\"_blank\" href=https://colab.research.google.com/notebooks/data_table.ipynb>data table notebook</a>'\n",
              "            + ' to learn more about interactive tables.';\n",
              "          element.innerHTML = '';\n",
              "          dataTable['output_type'] = 'display_data';\n",
              "          await google.colab.output.renderOutput(dataTable, element);\n",
              "          const docLink = document.createElement('div');\n",
              "          docLink.innerHTML = docLinkHtml;\n",
              "          element.appendChild(docLink);\n",
              "        }\n",
              "      </script>\n",
              "    </div>\n",
              "  </div>\n",
              "  "
            ]
          },
          "metadata": {},
          "execution_count": 3
        }
      ]
    },
    {
      "cell_type": "code",
      "source": [
        "from sklearn.model_selection import train_test_split\n",
        "from sklearn.preprocessing import StandardScaler\n",
        "\n",
        "X,y = df_wine.iloc[:,1:].values,df_wine.iloc[:,0].values\n",
        "X_train,X_test,y_train,y_test = train_test_split(X,y,test_size=0.3,stratify= y,random_state =0)\n",
        "\n",
        "sc = StandardScaler()\n",
        "X_train_std = sc.fit_transform(X_train)\n",
        "X_test_std = sc.transform(X_test)"
      ],
      "metadata": {
        "id": "Iuk3y7GJVxqH"
      },
      "execution_count": 4,
      "outputs": []
    },
    {
      "cell_type": "code",
      "source": [
        "import numpy as np\n",
        "\n",
        "cov_mat = np.cov(X_train_std.T) #특성이 열에 놓여있어서 전치해야함\n",
        "eigen_vals,eigen_vecs = np.linalg.eig(cov_mat) #고유값 고유벡터 구하기 -> 공분산 행렬 수식을 정리하면 결국에는 고유값 구하는 형태로 나옴 \n",
        "eigen_vals\n"
      ],
      "metadata": {
        "colab": {
          "base_uri": "https://localhost:8080/"
        },
        "id": "uX_wAqtVZ2zR",
        "outputId": "fbbc1f58-eb88-4ef4-9be6-cc0b073508c4"
      },
      "execution_count": 5,
      "outputs": [
        {
          "output_type": "execute_result",
          "data": {
            "text/plain": [
              "array([4.84274532, 2.41602459, 1.54845825, 0.96120438, 0.84166161,\n",
              "       0.6620634 , 0.51828472, 0.34650377, 0.3131368 , 0.10754642,\n",
              "       0.21357215, 0.15362835, 0.1808613 ])"
            ]
          },
          "metadata": {},
          "execution_count": 5
        }
      ]
    },
    {
      "cell_type": "code",
      "source": [
        "import matplotlib.pyplot as plt\n",
        "\n",
        "sum_eigen = sum(eigen_vals)\n",
        "var_exp = [ (i/sum_eigen) for i in sorted(eigen_vals)]\n",
        "cum_var_exp = np.cumsum(var_exp)#누적합으로 나타낼거임 \n",
        "\n",
        "plt.bar(range(1, 14), var_exp, align='center',label='Individual explained variance')\n",
        "\n",
        "plt.step(range(1, 14), cum_var_exp, where='mid',label='Cumulative explained variance')\n",
        "\n",
        "\n",
        "\n",
        "plt.ylabel('Explained variance ratio')\n",
        "plt.xlabel('Principal component index')\n",
        "plt.legend(loc='best')\n",
        "plt.tight_layout()\n",
        "plt.show() #이것보다 역으로 나타내는게 더 직관적으로 보일거 같음"
      ],
      "metadata": {
        "id": "8NxCPoAFbsGS",
        "colab": {
          "base_uri": "https://localhost:8080/",
          "height": 297
        },
        "outputId": "9729a049-546c-43e7-c2f4-713cfa6b3749"
      },
      "execution_count": 6,
      "outputs": [
        {
          "output_type": "display_data",
          "data": {
            "text/plain": [
              "<Figure size 432x288 with 1 Axes>"
            ],
            "image/png": "[encoded data removed]"
          },
          "metadata": {
            "needs_background": "light"
          }
        }
      ]
    },
    {
      "cell_type": "code",
      "source": [
        "import matplotlib.pyplot as plt\n",
        "\n",
        "sum_eigen = sum(eigen_vals)\n",
        "var_exp = [ (i/sum_eigen) for i in sorted(eigen_vals, reverse = True)]\n",
        "cum_var_exp = np.cumsum(var_exp)#누적합으로 나타낼거임 \n",
        "\n",
        "plt.bar(range(1, 14), var_exp, align='center',label='Individual explained variance')\n",
        "\n",
        "plt.step(range(1, 14), cum_var_exp, where='mid',label='Cumulative explained variance')\n",
        "\n",
        "\n",
        "\n",
        "plt.ylabel('Explained variance ratio')\n",
        "plt.xlabel('Principal component index')\n",
        "plt.legend(loc='best')\n",
        "plt.tight_layout()\n",
        "plt.show() #요게 더 직관적임 -> 두번쨰 데이터 셋까지 분산의 60%정도를 차지"
      ],
      "metadata": {
        "colab": {
          "base_uri": "https://localhost:8080/",
          "height": 297
        },
        "id": "ZcFxbw8seijY",
        "outputId": "5837384e-4f82-4024-9e2e-4ff8ef44df79"
      },
      "execution_count": 7,
      "outputs": [
        {
          "output_type": "display_data",
          "data": {
            "text/plain": [
              "<Figure size 432x288 with 1 Axes>"
            ],
            "image/png": "[encoded data removed]"
          },
          "metadata": {
            "needs_background": "light"
          }
        }
      ]
    },
    {
      "cell_type": "markdown",
      "source": [
        "## 특성 변환"
      ],
      "metadata": {
        "id": "dqSlXlZDexkL"
      }
    },
    {
      "cell_type": "markdown",
      "source": [
        "5. 고유값이 가장 큰 k개의 고유벡터 선택 (k는 새로운 특성 부분 공간의 차원 , k<d)\n",
        "6. 최상위 k개의 고유벡터로  투영행렬 W만들기\n",
        "7. 투영 행렬 W를 사용해서 d차원 입력 데이터셋 X를 새로운 k차원의 특성 부분 공간으로 변환"
      ],
      "metadata": {
        "id": "9xJ46qvke8bu"
      }
    },
    {
      "cell_type": "code",
      "source": [
        "temp_eigen = [[np.abs(eigen_vals[i]), eigen_vecs[:,i]] for i in range(len(eigen_vals))] #리스트만들고\n",
        "temp_eigen                                                                  "
      ],
      "metadata": {
        "colab": {
          "base_uri": "https://localhost:8080/"
        },
        "id": "qjkRiAF_fZUq",
        "outputId": "fcc23b41-3956-4d04-8479-71fb677dbe72"
      },
      "execution_count": 8,
      "outputs": [
        {
          "output_type": "execute_result",
          "data": {
            "text/plain": [
              "[[4.8427453156558915,\n",
              "  array([-0.13724218,  0.24724326, -0.02545159,  0.20694508, -0.15436582,\n",
              "         -0.39376952, -0.41735106,  0.30572896, -0.30668347,  0.07554066,\n",
              "         -0.32613263, -0.36861022, -0.29669651])],\n",
              " [2.4160245870352246,\n",
              "  array([ 0.50303478,  0.16487119,  0.24456476, -0.11352904,  0.28974518,\n",
              "          0.05080104, -0.02287338,  0.09048885,  0.00835233,  0.54977581,\n",
              "         -0.20716433, -0.24902536,  0.38022942])],\n",
              " [1.5484582488203502,\n",
              "  array([-0.13774873,  0.09615039,  0.67777567,  0.62504055,  0.19613548,\n",
              "          0.14031057,  0.11705386,  0.13121778,  0.0304309 , -0.07992997,\n",
              "          0.05305915,  0.13239103, -0.07065022])],\n",
              " [0.9612043774977349,\n",
              "  array([-0.0032961 ,  0.56264669, -0.10897711,  0.0338187 , -0.36751107,\n",
              "          0.24024513,  0.1870533 , -0.02292622,  0.49626233,  0.10648294,\n",
              "         -0.36905375,  0.14201609, -0.16768217])],\n",
              " [0.8416616104578446,\n",
              "  array([-0.29062523,  0.08953787, -0.16083499,  0.05158734,  0.67648707,\n",
              "         -0.11851114, -0.10710035, -0.50758161,  0.20163462,  0.00573607,\n",
              "         -0.27691422, -0.06662756, -0.12802904])],\n",
              " [0.6620634040383047,\n",
              "  array([ 2.99096847e-01,  6.27036396e-01,  3.89128239e-04, -4.05836452e-02,\n",
              "          6.57772614e-02, -5.89776247e-02, -3.01103180e-02, -2.71728086e-01,\n",
              "         -4.39997519e-01, -4.11743459e-01,  1.41673377e-01,  1.75842384e-01,\n",
              "          1.38018388e-01])],\n",
              " [0.5182847213561953,\n",
              "  array([ 0.07905293, -0.27400201,  0.13232805,  0.2239991 , -0.40526897,\n",
              "         -0.03474194,  0.04178357, -0.63114569, -0.32312277,  0.26908262,\n",
              "         -0.30264066,  0.13054014,  0.00081134])],\n",
              " [0.346503766412867,\n",
              "  array([-0.36817641, -0.01257758,  0.17757818, -0.44059211,  0.1166175 ,\n",
              "          0.35019213,  0.21871818,  0.19712942, -0.43305587, -0.06684118,\n",
              "         -0.45976229,  0.11082755,  0.00560817])],\n",
              " [0.3131368004720884,\n",
              "  array([-0.39837702,  0.11045823,  0.38249686, -0.24337385, -0.25898236,\n",
              "         -0.34231286, -0.03612316, -0.17143688,  0.24437021, -0.15551492,\n",
              "          0.02119612, -0.23808956,  0.51727846])],\n",
              " [0.10754642369671001,\n",
              "  array([-0.09448698,  0.02636524,  0.14274751, -0.13048578, -0.06760808,\n",
              "          0.45991766, -0.81458395, -0.09574809,  0.06724689,  0.08733362,\n",
              "          0.12906113,  0.18764627,  0.01211126])],\n",
              " [0.21357214660527324,\n",
              "  array([ 0.37463888, -0.1374056 ,  0.46158303, -0.41895399,  0.01004706,\n",
              "         -0.22125424, -0.04175136, -0.08875695,  0.19992186, -0.22166887,\n",
              "         -0.09846946,  0.01912058, -0.54253207])],\n",
              " [0.1536283500671102,\n",
              "  array([-0.12783451,  0.08064016,  0.01679249, -0.11084566,  0.07938796,\n",
              "         -0.49145931, -0.0503074 ,  0.17532803, -0.00367596,  0.35975654,\n",
              "          0.04046698,  0.74222954,  0.03873952])],\n",
              " [0.18086130479496623,\n",
              "  array([ 0.26283426, -0.26676921, -0.11554255,  0.19948341,  0.02890188,\n",
              "         -0.06638686, -0.21334908,  0.18639128,  0.16808299, -0.46636903,\n",
              "         -0.53248388,  0.23783528,  0.36776336])]]"
            ]
          },
          "metadata": {},
          "execution_count": 8
        }
      ]
    },
    {
      "cell_type": "code",
      "source": [
        "temp_eigen.sort(key = lambda k: k[0],reverse = True) #가장 큰값 기준으로 내림차순 정렬 시킴\n",
        "temp_eigen"
      ],
      "metadata": {
        "colab": {
          "base_uri": "https://localhost:8080/"
        },
        "id": "jfMs6a7diPb6",
        "outputId": "c0e2baef-f6bc-4995-d631-dedcbf124539"
      },
      "execution_count": 9,
      "outputs": [
        {
          "output_type": "execute_result",
          "data": {
            "text/plain": [
              "[[4.8427453156558915,\n",
              "  array([-0.13724218,  0.24724326, -0.02545159,  0.20694508, -0.15436582,\n",
              "         -0.39376952, -0.41735106,  0.30572896, -0.30668347,  0.07554066,\n",
              "         -0.32613263, -0.36861022, -0.29669651])],\n",
              " [2.4160245870352246,\n",
              "  array([ 0.50303478,  0.16487119,  0.24456476, -0.11352904,  0.28974518,\n",
              "          0.05080104, -0.02287338,  0.09048885,  0.00835233,  0.54977581,\n",
              "         -0.20716433, -0.24902536,  0.38022942])],\n",
              " [1.5484582488203502,\n",
              "  array([-0.13774873,  0.09615039,  0.67777567,  0.62504055,  0.19613548,\n",
              "          0.14031057,  0.11705386,  0.13121778,  0.0304309 , -0.07992997,\n",
              "          0.05305915,  0.13239103, -0.07065022])],\n",
              " [0.9612043774977349,\n",
              "  array([-0.0032961 ,  0.56264669, -0.10897711,  0.0338187 , -0.36751107,\n",
              "          0.24024513,  0.1870533 , -0.02292622,  0.49626233,  0.10648294,\n",
              "         -0.36905375,  0.14201609, -0.16768217])],\n",
              " [0.8416616104578446,\n",
              "  array([-0.29062523,  0.08953787, -0.16083499,  0.05158734,  0.67648707,\n",
              "         -0.11851114, -0.10710035, -0.50758161,  0.20163462,  0.00573607,\n",
              "         -0.27691422, -0.06662756, -0.12802904])],\n",
              " [0.6620634040383047,\n",
              "  array([ 2.99096847e-01,  6.27036396e-01,  3.89128239e-04, -4.05836452e-02,\n",
              "          6.57772614e-02, -5.89776247e-02, -3.01103180e-02, -2.71728086e-01,\n",
              "         -4.39997519e-01, -4.11743459e-01,  1.41673377e-01,  1.75842384e-01,\n",
              "          1.38018388e-01])],\n",
              " [0.5182847213561953,\n",
              "  array([ 0.07905293, -0.27400201,  0.13232805,  0.2239991 , -0.40526897,\n",
              "         -0.03474194,  0.04178357, -0.63114569, -0.32312277,  0.26908262,\n",
              "         -0.30264066,  0.13054014,  0.00081134])],\n",
              " [0.346503766412867,\n",
              "  array([-0.36817641, -0.01257758,  0.17757818, -0.44059211,  0.1166175 ,\n",
              "          0.35019213,  0.21871818,  0.19712942, -0.43305587, -0.06684118,\n",
              "         -0.45976229,  0.11082755,  0.00560817])],\n",
              " [0.3131368004720884,\n",
              "  array([-0.39837702,  0.11045823,  0.38249686, -0.24337385, -0.25898236,\n",
              "         -0.34231286, -0.03612316, -0.17143688,  0.24437021, -0.15551492,\n",
              "          0.02119612, -0.23808956,  0.51727846])],\n",
              " [0.21357214660527324,\n",
              "  array([ 0.37463888, -0.1374056 ,  0.46158303, -0.41895399,  0.01004706,\n",
              "         -0.22125424, -0.04175136, -0.08875695,  0.19992186, -0.22166887,\n",
              "         -0.09846946,  0.01912058, -0.54253207])],\n",
              " [0.18086130479496623,\n",
              "  array([ 0.26283426, -0.26676921, -0.11554255,  0.19948341,  0.02890188,\n",
              "         -0.06638686, -0.21334908,  0.18639128,  0.16808299, -0.46636903,\n",
              "         -0.53248388,  0.23783528,  0.36776336])],\n",
              " [0.1536283500671102,\n",
              "  array([-0.12783451,  0.08064016,  0.01679249, -0.11084566,  0.07938796,\n",
              "         -0.49145931, -0.0503074 ,  0.17532803, -0.00367596,  0.35975654,\n",
              "          0.04046698,  0.74222954,  0.03873952])],\n",
              " [0.10754642369671001,\n",
              "  array([-0.09448698,  0.02636524,  0.14274751, -0.13048578, -0.06760808,\n",
              "          0.45991766, -0.81458395, -0.09574809,  0.06724689,  0.08733362,\n",
              "          0.12906113,  0.18764627,  0.01211126])]]"
            ]
          },
          "metadata": {},
          "execution_count": 9
        }
      ]
    },
    {
      "cell_type": "code",
      "source": [
        "w_1 = np.hstack((temp_eigen[0][1],temp_eigen[1][1]))  #차원 확장 안시켜주면 값이 덮어씌어져서 행렬이 꼬임\n",
        "w_1"
      ],
      "metadata": {
        "colab": {
          "base_uri": "https://localhost:8080/"
        },
        "id": "3V9Q4GZ8aDkw",
        "outputId": "30c86b02-1cbb-4fa8-cb5b-ae611a935439"
      },
      "execution_count": 10,
      "outputs": [
        {
          "output_type": "execute_result",
          "data": {
            "text/plain": [
              "array([-0.13724218,  0.24724326, -0.02545159,  0.20694508, -0.15436582,\n",
              "       -0.39376952, -0.41735106,  0.30572896, -0.30668347,  0.07554066,\n",
              "       -0.32613263, -0.36861022, -0.29669651,  0.50303478,  0.16487119,\n",
              "        0.24456476, -0.11352904,  0.28974518,  0.05080104, -0.02287338,\n",
              "        0.09048885,  0.00835233,  0.54977581, -0.20716433, -0.24902536,\n",
              "        0.38022942])"
            ]
          },
          "metadata": {},
          "execution_count": 10
        }
      ]
    },
    {
      "cell_type": "code",
      "source": [
        "w = np.hstack((temp_eigen[0][1][:,np.newaxis],temp_eigen[1][1][:,np.newaxis])) #이렇게 차원 늘려서 행렬 만들어 줘야함\n",
        "w"
      ],
      "metadata": {
        "colab": {
          "base_uri": "https://localhost:8080/"
        },
        "id": "RyIHeusfi7XS",
        "outputId": "c2563c38-5322-485b-d1c2-d3799e70b9d1"
      },
      "execution_count": 11,
      "outputs": [
        {
          "output_type": "execute_result",
          "data": {
            "text/plain": [
              "array([[-0.13724218,  0.50303478],\n",
              "       [ 0.24724326,  0.16487119],\n",
              "       [-0.02545159,  0.24456476],\n",
              "       [ 0.20694508, -0.11352904],\n",
              "       [-0.15436582,  0.28974518],\n",
              "       [-0.39376952,  0.05080104],\n",
              "       [-0.41735106, -0.02287338],\n",
              "       [ 0.30572896,  0.09048885],\n",
              "       [-0.30668347,  0.00835233],\n",
              "       [ 0.07554066,  0.54977581],\n",
              "       [-0.32613263, -0.20716433],\n",
              "       [-0.36861022, -0.24902536],\n",
              "       [-0.29669651,  0.38022942]])"
            ]
          },
          "metadata": {},
          "execution_count": 11
        }
      ]
    },
    {
      "cell_type": "code",
      "source": [
        "X_train_pca = X_train_std.dot(w) #pca 부분공간에 투영하여 2차원으로 만들자"
      ],
      "metadata": {
        "id": "3aLVITsGmN_y"
      },
      "execution_count": 12,
      "outputs": []
    },
    {
      "cell_type": "code",
      "source": [
        "X_train_pca = X_train_std.dot(w)\n",
        "colors = ['r', 'b', 'g']\n",
        "markers = ['s', 'x', 'o']\n",
        "\n",
        "for l, c, m in zip(np.unique(y_train), colors, markers):\n",
        "  plt.scatter(X_train_pca[y_train == l, 0], X_train_pca[y_train == l, 1], c=c, label=l, marker=m)\n",
        "\n",
        "plt.xlabel('PC 1')\n",
        "plt.ylabel('PC 2')\n",
        "plt.legend(loc='best')\n",
        "plt.tight_layout()\n",
        "plt.show()"
      ],
      "metadata": {
        "colab": {
          "base_uri": "https://localhost:8080/",
          "height": 297
        },
        "id": "BAwqrwFJmOIQ",
        "outputId": "c1ddbb2a-1d55-4559-ab6b-bc203090f221"
      },
      "execution_count": 13,
      "outputs": [
        {
          "output_type": "display_data",
          "data": {
            "text/plain": [
              "<Figure size 432x288 with 1 Axes>"
            ],
            "image/png": "[encoded data removed]"
          },
          "metadata": {
            "needs_background": "light"
          }
        }
      ]
    },
    {
      "cell_type": "markdown",
      "source": [
        "## 사이킷런의 주성분 분석"
      ],
      "metadata": {
        "id": "n5CCXH39pTy0"
      }
    },
    {
      "cell_type": "code",
      "source": [
        "from matplotlib.colors import ListedColormap\n",
        "\n",
        "def plot_decision_regions(X, y, classifier, resolution=0.02): #2강에서 만들어둔 결정 경계 그리는 함수 가져옴\n",
        "\n",
        "    markers = ('s', 'x', 'o', '^', 'v')\n",
        "    colors = ('red', 'blue', 'lightgreen', 'gray', 'cyan')\n",
        "    cmap = ListedColormap(colors[:len(np.unique(y))])\n",
        "\n",
        "    x1_min, x1_max = X[:, 0].min() - 1, X[:, 0].max() + 1\n",
        "    x2_min, x2_max = X[:, 1].min() - 1, X[:, 1].max() + 1\n",
        "    xx1, xx2 = np.meshgrid(np.arange(x1_min, x1_max, resolution),np.arange(x2_min, x2_max, resolution))\n",
        "    Z = classifier.predict(np.array([xx1.ravel(), xx2.ravel()]).T)\n",
        "    Z = Z.reshape(xx1.shape)\n",
        "    plt.contourf(xx1, xx2, Z, alpha=0.4, cmap=cmap)\n",
        "    plt.xlim(xx1.min(), xx1.max())\n",
        "    plt.ylim(xx2.min(), xx2.max())\n",
        "\n",
        "    for idx, cl in enumerate(np.unique(y)):\n",
        "      plt.scatter(x=X[y == cl, 0], y=X[y == cl, 1],alpha=0.6, color=cmap(idx),edgecolor='black',marker=markers[idx], label=cl)"
      ],
      "metadata": {
        "id": "vqCpl--qo3OJ"
      },
      "execution_count": 14,
      "outputs": []
    },
    {
      "cell_type": "code",
      "source": [
        "from sklearn.linear_model import LogisticRegression\n",
        "from sklearn.decomposition import PCA\n",
        "\n",
        "pca = PCA(n_components=2)\n",
        "X_train_pca = pca.fit_transform(X_train_std)\n",
        "X_test_pca = pca.transform(X_test_std)\n",
        "\n",
        "lr = LogisticRegression(random_state=1)\n",
        "lr = lr.fit(X_train_pca, y_train)"
      ],
      "metadata": {
        "id": "m06UobkqpD5Z"
      },
      "execution_count": 15,
      "outputs": []
    },
    {
      "cell_type": "code",
      "source": [
        "plot_decision_regions(X_train_pca, y_train, classifier=lr)\n",
        "plt.xlabel('PC 1')\n",
        "plt.ylabel('PC 2')\n",
        "plt.legend(loc='lower left')\n",
        "plt.tight_layout()\n",
        "plt.show() #train data set"
      ],
      "metadata": {
        "colab": {
          "base_uri": "https://localhost:8080/",
          "height": 297
        },
        "id": "0KnZu5CtpmLY",
        "outputId": "00616f73-18e2-42db-be6e-04acd99f6806"
      },
      "execution_count": 16,
      "outputs": [
        {
          "output_type": "display_data",
          "data": {
            "text/plain": [
              "<Figure size 432x288 with 1 Axes>"
            ],
            "image/png": "[encoded data removed]"
          },
          "metadata": {
            "needs_background": "light"
          }
        }
      ]
    },
    {
      "cell_type": "code",
      "source": [
        "plot_decision_regions(X_test_pca, y_test, classifier=lr)\n",
        "plt.xlabel('PC 1')\n",
        "plt.ylabel('PC 2')\n",
        "plt.legend(loc='lower left')\n",
        "plt.tight_layout()\n",
        "plt.show() #test data set"
      ],
      "metadata": {
        "colab": {
          "base_uri": "https://localhost:8080/",
          "height": 297
        },
        "id": "8E-1_0RGpmOh",
        "outputId": "9e4f8f62-52a1-47d2-be61-458d051a8c1a"
      },
      "execution_count": 17,
      "outputs": [
        {
          "output_type": "display_data",
          "data": {
            "text/plain": [
              "<Figure size 432x288 with 1 Axes>"
            ],
            "image/png": "[encoded data removed]"
          },
          "metadata": {
            "needs_background": "light"
          }
        }
      ]
    },
    {
      "cell_type": "code",
      "source": [
        "pca = PCA(n_components=None) #이거 None이라고 해줘야 모든 주성분을 확인 가능함 \n",
        "X_train_pca = pca.fit_transform(X_train_std)\n",
        "pca.explained_variance_ratio_ #모든 분산비율 확인"
      ],
      "metadata": {
        "colab": {
          "base_uri": "https://localhost:8080/"
        },
        "id": "A9vGIJ0zpmRp",
        "outputId": "0082a060-fe5f-4ee1-f0cf-2a47d9c73a1c"
      },
      "execution_count": 18,
      "outputs": [
        {
          "output_type": "execute_result",
          "data": {
            "text/plain": [
              "array([0.36951469, 0.18434927, 0.11815159, 0.07334252, 0.06422108,\n",
              "       0.05051724, 0.03954654, 0.02643918, 0.02389319, 0.01629614,\n",
              "       0.01380021, 0.01172226, 0.00820609])"
            ]
          },
          "metadata": {},
          "execution_count": 18
        }
      ]
    },
    {
      "cell_type": "code",
      "source": [
        "pca = PCA(n_components=0.95)\n",
        "pca.fit(X_train_std)\n",
        "print('주성분 개수:', pca.n_components_)\n",
        "print('설명된 분산 비율:', np.sum(pca.explained_variance_ratio_))"
      ],
      "metadata": {
        "colab": {
          "base_uri": "https://localhost:8080/"
        },
        "id": "6Ccc1ePXpmUe",
        "outputId": "dce133ae-2d80-42f7-ecc1-e81fc7fe32f6"
      },
      "execution_count": 19,
      "outputs": [
        {
          "output_type": "stream",
          "name": "stdout",
          "text": [
            "주성분 개수: 10\n",
            "설명된 분산 비율: 0.9662714406558743\n"
          ]
        }
      ]
    },
    {
      "cell_type": "code",
      "source": [
        "pca = PCA(n_components='mle')\n",
        "pca.fit(X_train_std)\n",
        "print('주성분 개수:', pca.n_components_)\n",
        "print('설명된 분산 비율:', np.sum(pca.explained_variance_ratio_))"
      ],
      "metadata": {
        "colab": {
          "base_uri": "https://localhost:8080/"
        },
        "id": "m8338OU4pmXC",
        "outputId": "b1e36f86-1303-4125-f7bc-60f69cf5eec8"
      },
      "execution_count": 20,
      "outputs": [
        {
          "output_type": "stream",
          "name": "stdout",
          "text": [
            "주성분 개수: 9\n",
            "설명된 분산 비율: 0.9499753029186233\n"
          ]
        }
      ]
    },
    {
      "cell_type": "code",
      "source": [
        "from sklearn.decomposition import IncrementalPCA\n",
        "\n",
        "ipca = IncrementalPCA(n_components=9)\n",
        "for batch in range(len(X_train_std)//25+1):\n",
        "    X_batch = X_train_std[batch*25:(batch+1)*25]\n",
        "    ipca.partial_fit(X_batch)\n",
        "\n",
        "print('주성분 개수:', ipca.n_components_)\n",
        "print('설명된 분산 비율:', np.sum(ipca.explained_variance_ratio_))"
      ],
      "metadata": {
        "colab": {
          "base_uri": "https://localhost:8080/"
        },
        "id": "dNJ047icpmZo",
        "outputId": "9fe2787a-bdfe-4b1e-b01e-dee6525bc3b3"
      },
      "execution_count": 21,
      "outputs": [
        {
          "output_type": "stream",
          "name": "stdout",
          "text": [
            "주성분 개수: 9\n",
            "설명된 분산 비율: 0.9478392700446656\n"
          ]
        }
      ]
    },
    {
      "cell_type": "markdown",
      "source": [
        "# 선형 판별 분석을 통한 지도 방식의 데이터 압축"
      ],
      "metadata": {
        "id": "njlmqHGB6Zny"
      }
    },
    {
      "cell_type": "markdown",
      "source": [
        "## 주성분 분석 vs 선형 판별 분석"
      ],
      "metadata": {
        "id": "TXpD5cFhak-G"
      }
    },
    {
      "cell_type": "code",
      "source": [
        "Image(url='https://git.io/Jtsv8', width=400) "
      ],
      "metadata": {
        "id": "Ow0b82HipmcX",
        "colab": {
          "base_uri": "https://localhost:8080/",
          "height": 366
        },
        "outputId": "d8b0a1c7-d307-420b-d06f-56a49549d071"
      },
      "execution_count": 22,
      "outputs": [
        {
          "output_type": "execute_result",
          "data": {
            "text/html": [
              "<img src=\"https://git.io/Jtsv8\" width=\"400\"/>"
            ],
            "text/plain": [
              "<IPython.core.display.Image object>"
            ]
          },
          "metadata": {},
          "execution_count": 22
        }
      ]
    },
    {
      "cell_type": "markdown",
      "source": [
        "## 선형 판별 분석의 내부 동작 방식"
      ],
      "metadata": {
        "id": "XeiSKapJan4X"
      }
    },
    {
      "cell_type": "markdown",
      "source": [
        "1. d차원의 데이터셋을 표준화 전처리\n",
        "2. 각 클래스에 대해 d차원의 평균벡터를 계산 \n",
        "3. 클래스 간의 산포행렬과 클래스 내 산포행렬을 구성\n",
        "4. (산포행렬)^-1 * (산포행렬) 의 고유벡터와 고윳값을 계산\n",
        "5. 고윳값을 내림차순으로 정렬하여 고유 벡터의 순서를 매긴다\n",
        "6. 고유값이 가장 큰 k개의 고유 벡터를 선택하여 d X K 차원의 변환 행렬 W를 구성\n",
        "7. 변환행렬 W를 사용하여 샘플을 새로운 특성 부분 공간으로 투영"
      ],
      "metadata": {
        "id": "8xMhKUAjap1e"
      }
    },
    {
      "cell_type": "code",
      "source": [
        "np.set_printoptions(precision=4)\n",
        "mean_vecs = []\n",
        "\n",
        "for label in range(1,4):\n",
        "  mean_vecs.append(np.mean(X_train_std[y_train == label], axis = 0))\n",
        "  print('MV %s: %s\\n' % (label, mean_vecs[label - 1]))"
      ],
      "metadata": {
        "id": "LBEPkGeapmfB",
        "colab": {
          "base_uri": "https://localhost:8080/"
        },
        "outputId": "174271f5-1921-437b-c52d-d67439ba0f48"
      },
      "execution_count": 26,
      "outputs": [
        {
          "output_type": "stream",
          "name": "stdout",
          "text": [
            "MV 1: [ 0.9066 -0.3497  0.3201 -0.7189  0.5056  0.8807  0.9589 -0.5516  0.5416\n",
            "  0.2338  0.5897  0.6563  1.2075]\n",
            "\n",
            "MV 2: [-0.8749 -0.2848 -0.3735  0.3157 -0.3848 -0.0433  0.0635 -0.0946  0.0703\n",
            " -0.8286  0.3144  0.3608 -0.7253]\n",
            "\n",
            "MV 3: [ 0.1992  0.866   0.1682  0.4148 -0.0451 -1.0286 -1.2876  0.8287 -0.7795\n",
            "  0.9649 -1.209  -1.3622 -0.4013]\n",
            "\n"
          ]
        }
      ]
    },
    {
      "cell_type": "code",
      "source": [
        "d = 13 #특성 개수\n",
        "S_W = np.zeros((d,d))\n",
        "\n",
        "for label, mv in zip(range(1, 4), mean_vecs):\n",
        "    class_scatter = np.zeros((d, d))  # 각 클래스에 대한 산포 행렬\n",
        "    for row in X_train_std[y_train == label]:\n",
        "        row, mv = row.reshape(d, 1), mv.reshape(d, 1)  # 열 벡터를 만들기\n",
        "        class_scatter += (row - mv).dot((row - mv).T)\n",
        "    S_W += class_scatter                          # 클래스 산포 행렬을 더함\n",
        "\n",
        "print('클래스 내의 산포 행렬: %sx%s' % (S_W.shape[0], S_W.shape[1]))"
      ],
      "metadata": {
        "id": "AHpbtMO8pmhs",
        "colab": {
          "base_uri": "https://localhost:8080/"
        },
        "outputId": "bd648a7d-e28c-4898-e53b-b49201e8f7e5"
      },
      "execution_count": 27,
      "outputs": [
        {
          "output_type": "stream",
          "name": "stdout",
          "text": [
            "클래스 내의 산포 행렬: 13x13\n"
          ]
        }
      ]
    },
    {
      "cell_type": "code",
      "source": [
        "print('클래스 레이블 분포: %s' % np.bincount(y_train)[1:])"
      ],
      "metadata": {
        "id": "MV6_bjQspmki",
        "colab": {
          "base_uri": "https://localhost:8080/"
        },
        "outputId": "49dbe799-6616-460f-ad3d-1095f78f9c48"
      },
      "execution_count": 28,
      "outputs": [
        {
          "output_type": "stream",
          "name": "stdout",
          "text": [
            "클래스 레이블 분포: [41 50 33]\n"
          ]
        }
      ]
    },
    {
      "cell_type": "code",
      "source": [
        "d = 13  # 특성의 수\n",
        "S_W = np.zeros((d, d))\n",
        "for label, mv in zip(range(1, 4), mean_vecs):\n",
        "    class_scatter = np.cov(X_train_std[y_train == label].T)\n",
        "    S_W += class_scatter\n",
        "print('스케일 조정된 클래스 내의 산포 행렬: %sx%s' % (S_W.shape[0], S_W.shape[1]))"
      ],
      "metadata": {
        "id": "Nq2y3jRspmm1",
        "colab": {
          "base_uri": "https://localhost:8080/"
        },
        "outputId": "8468e931-51ab-450d-e94b-e319f366c6b7"
      },
      "execution_count": 29,
      "outputs": [
        {
          "output_type": "stream",
          "name": "stdout",
          "text": [
            "스케일 조정된 클래스 내의 산포 행렬: 13x13\n"
          ]
        }
      ]
    },
    {
      "cell_type": "code",
      "source": [
        "mean_overall = np.mean(X_train_std, axis = 0)\n",
        "mean_overall = mean_overall.reshape(d,1)\n",
        "\n",
        "S_B = np.zeros((d,d))\n",
        "\n",
        "for i, mean_vec in enumerate(mean_vecs):\n",
        "  n = X_train_std[y_train == i + 1, :].shape[0]\n",
        "  mean_vec = mean_vec.reshape(d, 1)  # 열 벡터로 만들기\n",
        "  S_B += n * (mean_vec - mean_overall).dot((mean_vec - mean_overall).T)\n",
        "\n",
        "print('클래스 간의 산포 행렬: %sx%s' % (S_B.shape[0], S_B.shape[1]))"
      ],
      "metadata": {
        "id": "BXue2OOgpmpn",
        "colab": {
          "base_uri": "https://localhost:8080/"
        },
        "outputId": "bf349302-3756-4215-9ac9-a748e596fe8c"
      },
      "execution_count": 31,
      "outputs": [
        {
          "output_type": "stream",
          "name": "stdout",
          "text": [
            "클래스 간의 산포 행렬: 13x13\n"
          ]
        }
      ]
    },
    {
      "cell_type": "code",
      "source": [
        "eigen_vals, eigen_vec = np.linalg.eig(np.linalg.inv(S_W).dot(S_B))\n",
        "eigen_vals"
      ],
      "metadata": {
        "id": "rluBg0xqpmr_",
        "colab": {
          "base_uri": "https://localhost:8080/"
        },
        "outputId": "04f91e99-13f7-486f-c78e-33e940689323"
      },
      "execution_count": 56,
      "outputs": [
        {
          "output_type": "execute_result",
          "data": {
            "text/plain": [
              "array([ 2.8422e-14+0.0000e+00j,  1.7276e+02+0.0000e+00j,\n",
              "        3.4962e+02+0.0000e+00j, -3.3428e-14+0.0000e+00j,\n",
              "        2.5546e-14+0.0000e+00j, -9.3297e-15+1.4846e-14j,\n",
              "       -9.3297e-15-1.4846e-14j,  6.2456e-15+1.5358e-14j,\n",
              "        6.2456e-15-1.5358e-14j, -2.9746e-15+0.0000e+00j,\n",
              "        4.3751e-15+6.9856e-15j,  4.3751e-15-6.9856e-15j,\n",
              "        6.3684e-15+0.0000e+00j])"
            ]
          },
          "metadata": {},
          "execution_count": 56
        }
      ]
    },
    {
      "cell_type": "code",
      "source": [
        "eigen_pairs = [(np.abs(eigen_vals[i]), eigen_vecs[:, i]) for i in range(len(eigen_vals))]\n",
        "eigen_pairs"
      ],
      "metadata": {
        "colab": {
          "base_uri": "https://localhost:8080/"
        },
        "id": "_omCbLfAeQx6",
        "outputId": "af852a98-4c11-4cf2-d439-e0d024fc2607"
      },
      "execution_count": 57,
      "outputs": [
        {
          "output_type": "execute_result",
          "data": {
            "text/plain": [
              "[(2.842170943040401e-14,\n",
              "  array([-0.1372,  0.2472, -0.0255,  0.2069, -0.1544, -0.3938, -0.4174,\n",
              "          0.3057, -0.3067,  0.0755, -0.3261, -0.3686, -0.2967])),\n",
              " (172.7615221897938,\n",
              "  array([ 0.503 ,  0.1649,  0.2446, -0.1135,  0.2897,  0.0508, -0.0229,\n",
              "          0.0905,  0.0084,  0.5498, -0.2072, -0.249 ,  0.3802])),\n",
              " (349.61780890599397,\n",
              "  array([-0.1377,  0.0962,  0.6778,  0.625 ,  0.1961,  0.1403,  0.1171,\n",
              "          0.1312,  0.0304, -0.0799,  0.0531,  0.1324, -0.0707])),\n",
              " (3.3428382148413644e-14,\n",
              "  array([-0.0033,  0.5626, -0.109 ,  0.0338, -0.3675,  0.2402,  0.1871,\n",
              "         -0.0229,  0.4963,  0.1065, -0.3691,  0.142 , -0.1677])),\n",
              " (2.5545786180111397e-14,\n",
              "  array([-0.2906,  0.0895, -0.1608,  0.0516,  0.6765, -0.1185, -0.1071,\n",
              "         -0.5076,  0.2016,  0.0057, -0.2769, -0.0666, -0.128 ])),\n",
              " (1.753393918073425e-14,\n",
              "  array([ 2.9910e-01,  6.2704e-01,  3.8913e-04, -4.0584e-02,  6.5777e-02,\n",
              "         -5.8978e-02, -3.0110e-02, -2.7173e-01, -4.4000e-01, -4.1174e-01,\n",
              "          1.4167e-01,  1.7584e-01,  1.3802e-01])),\n",
              " (1.753393918073425e-14,\n",
              "  array([ 0.0791, -0.274 ,  0.1323,  0.224 , -0.4053, -0.0347,  0.0418,\n",
              "         -0.6311, -0.3231,  0.2691, -0.3026,  0.1305,  0.0008])),\n",
              " (1.657919399596089e-14,\n",
              "  array([-0.3682, -0.0126,  0.1776, -0.4406,  0.1166,  0.3502,  0.2187,\n",
              "          0.1971, -0.4331, -0.0668, -0.4598,  0.1108,  0.0056])),\n",
              " (1.657919399596089e-14,\n",
              "  array([-0.3984,  0.1105,  0.3825, -0.2434, -0.259 , -0.3423, -0.0361,\n",
              "         -0.1714,  0.2444, -0.1555,  0.0212, -0.2381,  0.5173])),\n",
              " (2.97463437554573e-15,\n",
              "  array([-0.0945,  0.0264,  0.1427, -0.1305, -0.0676,  0.4599, -0.8146,\n",
              "         -0.0957,  0.0672,  0.0873,  0.1291,  0.1876,  0.0121])),\n",
              " (8.242524002707208e-15,\n",
              "  array([ 0.3746, -0.1374,  0.4616, -0.419 ,  0.01  , -0.2213, -0.0418,\n",
              "         -0.0888,  0.1999, -0.2217, -0.0985,  0.0191, -0.5425])),\n",
              " (8.242524002707208e-15,\n",
              "  array([-0.1278,  0.0806,  0.0168, -0.1108,  0.0794, -0.4915, -0.0503,\n",
              "          0.1753, -0.0037,  0.3598,  0.0405,  0.7422,  0.0387])),\n",
              " (6.36835506006027e-15,\n",
              "  array([ 0.2628, -0.2668, -0.1155,  0.1995,  0.0289, -0.0664, -0.2133,\n",
              "          0.1864,  0.1681, -0.4664, -0.5325,  0.2378,  0.3678]))]"
            ]
          },
          "metadata": {},
          "execution_count": 57
        }
      ]
    },
    {
      "cell_type": "code",
      "source": [
        "eigen_pairs = sorted(eigen_pairs, key=lambda k: k[0], reverse=True)\n",
        "eigen_pairs"
      ],
      "metadata": {
        "colab": {
          "base_uri": "https://localhost:8080/"
        },
        "id": "KMPTWbK8eoQF",
        "outputId": "20a42a1f-44b5-4706-85e5-f034ffb33acc"
      },
      "execution_count": 59,
      "outputs": [
        {
          "output_type": "execute_result",
          "data": {
            "text/plain": [
              "[(349.61780890599397,\n",
              "  array([-0.1377,  0.0962,  0.6778,  0.625 ,  0.1961,  0.1403,  0.1171,\n",
              "          0.1312,  0.0304, -0.0799,  0.0531,  0.1324, -0.0707])),\n",
              " (172.7615221897938,\n",
              "  array([ 0.503 ,  0.1649,  0.2446, -0.1135,  0.2897,  0.0508, -0.0229,\n",
              "          0.0905,  0.0084,  0.5498, -0.2072, -0.249 ,  0.3802])),\n",
              " (3.3428382148413644e-14,\n",
              "  array([-0.0033,  0.5626, -0.109 ,  0.0338, -0.3675,  0.2402,  0.1871,\n",
              "         -0.0229,  0.4963,  0.1065, -0.3691,  0.142 , -0.1677])),\n",
              " (2.842170943040401e-14,\n",
              "  array([-0.1372,  0.2472, -0.0255,  0.2069, -0.1544, -0.3938, -0.4174,\n",
              "          0.3057, -0.3067,  0.0755, -0.3261, -0.3686, -0.2967])),\n",
              " (2.5545786180111397e-14,\n",
              "  array([-0.2906,  0.0895, -0.1608,  0.0516,  0.6765, -0.1185, -0.1071,\n",
              "         -0.5076,  0.2016,  0.0057, -0.2769, -0.0666, -0.128 ])),\n",
              " (1.753393918073425e-14,\n",
              "  array([ 2.9910e-01,  6.2704e-01,  3.8913e-04, -4.0584e-02,  6.5777e-02,\n",
              "         -5.8978e-02, -3.0110e-02, -2.7173e-01, -4.4000e-01, -4.1174e-01,\n",
              "          1.4167e-01,  1.7584e-01,  1.3802e-01])),\n",
              " (1.753393918073425e-14,\n",
              "  array([ 0.0791, -0.274 ,  0.1323,  0.224 , -0.4053, -0.0347,  0.0418,\n",
              "         -0.6311, -0.3231,  0.2691, -0.3026,  0.1305,  0.0008])),\n",
              " (1.657919399596089e-14,\n",
              "  array([-0.3682, -0.0126,  0.1776, -0.4406,  0.1166,  0.3502,  0.2187,\n",
              "          0.1971, -0.4331, -0.0668, -0.4598,  0.1108,  0.0056])),\n",
              " (1.657919399596089e-14,\n",
              "  array([-0.3984,  0.1105,  0.3825, -0.2434, -0.259 , -0.3423, -0.0361,\n",
              "         -0.1714,  0.2444, -0.1555,  0.0212, -0.2381,  0.5173])),\n",
              " (8.242524002707208e-15,\n",
              "  array([ 0.3746, -0.1374,  0.4616, -0.419 ,  0.01  , -0.2213, -0.0418,\n",
              "         -0.0888,  0.1999, -0.2217, -0.0985,  0.0191, -0.5425])),\n",
              " (8.242524002707208e-15,\n",
              "  array([-0.1278,  0.0806,  0.0168, -0.1108,  0.0794, -0.4915, -0.0503,\n",
              "          0.1753, -0.0037,  0.3598,  0.0405,  0.7422,  0.0387])),\n",
              " (6.36835506006027e-15,\n",
              "  array([ 0.2628, -0.2668, -0.1155,  0.1995,  0.0289, -0.0664, -0.2133,\n",
              "          0.1864,  0.1681, -0.4664, -0.5325,  0.2378,  0.3678])),\n",
              " (2.97463437554573e-15,\n",
              "  array([-0.0945,  0.0264,  0.1427, -0.1305, -0.0676,  0.4599, -0.8146,\n",
              "         -0.0957,  0.0672,  0.0873,  0.1291,  0.1876,  0.0121]))]"
            ]
          },
          "metadata": {},
          "execution_count": 59
        }
      ]
    },
    {
      "cell_type": "code",
      "source": [
        "for eigen_val in eigen_pairs:\n",
        "  print(eigen_val[0])"
      ],
      "metadata": {
        "colab": {
          "base_uri": "https://localhost:8080/"
        },
        "id": "9Mejy46re3nA",
        "outputId": "1693e73c-3d35-48fa-fd0a-12e807373d3e"
      },
      "execution_count": 60,
      "outputs": [
        {
          "output_type": "stream",
          "name": "stdout",
          "text": [
            "349.61780890599397\n",
            "172.7615221897938\n",
            "3.3428382148413644e-14\n",
            "2.842170943040401e-14\n",
            "2.5545786180111397e-14\n",
            "1.753393918073425e-14\n",
            "1.753393918073425e-14\n",
            "1.657919399596089e-14\n",
            "1.657919399596089e-14\n",
            "8.242524002707208e-15\n",
            "8.242524002707208e-15\n",
            "6.36835506006027e-15\n",
            "2.97463437554573e-15\n"
          ]
        }
      ]
    },
    {
      "cell_type": "code",
      "source": [
        "tot = sum(eigen_vals.real)\n",
        "discr = [(i / tot) for i in sorted(eigen_vals.real, reverse=True)]\n",
        "cum_discr = np.cumsum(discr)\n",
        "\n",
        "plt.bar(range(1, 14), discr, alpha=0.5, align='center',\n",
        "        label='Individual \"discriminability\"')\n",
        "plt.step(range(1, 14), cum_discr, where='mid',\n",
        "         label='Cumulative \"discriminability\"')\n",
        "plt.ylabel('\"Discriminability\" ratio')\n",
        "plt.xlabel('Linear discriminants')\n",
        "plt.ylim([-0.1, 1.1])\n",
        "plt.legend(loc='best')\n",
        "plt.tight_layout()\n",
        "plt.show()"
      ],
      "metadata": {
        "colab": {
          "base_uri": "https://localhost:8080/",
          "height": 297
        },
        "id": "q5knxFAAfVB8",
        "outputId": "53630c69-00f1-4e5b-f805-3d438ae8c9c7"
      },
      "execution_count": 61,
      "outputs": [
        {
          "output_type": "display_data",
          "data": {
            "text/plain": [
              "<Figure size 432x288 with 1 Axes>"
            ],
            "image/png": "[encoded data removed]"
          },
          "metadata": {
            "needs_background": "light"
          }
        }
      ]
    },
    {
      "cell_type": "code",
      "source": [
        "w = np.hstack((eigen_pairs[0][1][:, np.newaxis].real,eigen_pairs[1][1][:, np.newaxis].real))\n",
        "print('행렬 W:\\n', w)"
      ],
      "metadata": {
        "colab": {
          "base_uri": "https://localhost:8080/"
        },
        "id": "_bIVYZuIgqov",
        "outputId": "476436b7-feda-47b5-b269-e6307c18faea"
      },
      "execution_count": 63,
      "outputs": [
        {
          "output_type": "stream",
          "name": "stdout",
          "text": [
            "행렬 W:\n",
            " [[-0.1377  0.503 ]\n",
            " [ 0.0962  0.1649]\n",
            " [ 0.6778  0.2446]\n",
            " [ 0.625  -0.1135]\n",
            " [ 0.1961  0.2897]\n",
            " [ 0.1403  0.0508]\n",
            " [ 0.1171 -0.0229]\n",
            " [ 0.1312  0.0905]\n",
            " [ 0.0304  0.0084]\n",
            " [-0.0799  0.5498]\n",
            " [ 0.0531 -0.2072]\n",
            " [ 0.1324 -0.249 ]\n",
            " [-0.0707  0.3802]]\n"
          ]
        }
      ]
    },
    {
      "cell_type": "code",
      "source": [
        "X_train_lda = X_train_std.dot(w)\n",
        "colors = ['r', 'b', 'g']\n",
        "markers = ['s', 'x', 'o']\n",
        "\n",
        "for l, c, m in zip(np.unique(y_train), colors, markers):\n",
        "  plt.scatter(X_train_lda[y_train == l, 0],X_train_lda[y_train == l, 1] * (-1),c=c, label=l, marker=m)\n",
        "\n",
        "plt.xlabel('LD 1')\n",
        "plt.ylabel('LD 2')\n",
        "plt.legend(loc='lower right')\n",
        "plt.tight_layout()\n",
        "plt.show() #어라 이렇게 나오면 안되는데"
      ],
      "metadata": {
        "colab": {
          "base_uri": "https://localhost:8080/",
          "height": 297
        },
        "id": "ya_auS39hW8r",
        "outputId": "9e95e0ed-55fe-4b8e-9730-023593766bd1"
      },
      "execution_count": 65,
      "outputs": [
        {
          "output_type": "display_data",
          "data": {
            "text/plain": [
              "<Figure size 432x288 with 1 Axes>"
            ],
            "image/png": "[encoded data removed]"
          },
          "metadata": {
            "needs_background": "light"
          }
        }
      ]
    },
    {
      "cell_type": "code",
      "source": [
        "a = np.arange(10).reshape(2,5)\n",
        "b = np.arange(15).reshape(3,5)\n",
        "c = np.arange(8).reshape(2,4)\n",
        "d = list(range(5))\n",
        "print('1번'   ,a)\n",
        "print('2번'    ,c)\n",
        "\n",
        "h = np.hstack((a,c))\n",
        "print('3번',h)"
      ],
      "metadata": {
        "colab": {
          "base_uri": "https://localhost:8080/"
        },
        "id": "tCd_fOTaaGse",
        "outputId": "6f595931-845d-47a7-cead-670920638358"
      },
      "execution_count": 23,
      "outputs": [
        {
          "output_type": "stream",
          "name": "stdout",
          "text": [
            "1번 [[0 1 2 3 4]\n",
            " [5 6 7 8 9]]\n",
            "2번 [[0 1 2 3]\n",
            " [4 5 6 7]]\n",
            "3번 [[0 1 2 3 4 0 1 2 3]\n",
            " [5 6 7 8 9 4 5 6 7]]\n"
          ]
        }
      ]
    }
  ]
}